{
 "cells": [
  {
   "cell_type": "markdown",
   "source": [
    "# s14-105: Opening and Reading Files and Folders (Python OS Module)"
   ],
   "metadata": {
    "collapsed": false
   }
  },
  {
   "cell_type": "code",
   "execution_count": 1,
   "outputs": [
    {
     "data": {
      "text/plain": "'/Users/dmitri/Learn/python/udemy/complete-python3-bootcamp/s14-advanced-python-modules'"
     },
     "execution_count": 1,
     "metadata": {},
     "output_type": "execute_result"
    }
   ],
   "source": [
    "pwd"
   ],
   "metadata": {
    "collapsed": false
   }
  },
  {
   "cell_type": "markdown",
   "source": [
    "## Create Practice File"
   ],
   "metadata": {
    "collapsed": false
   }
  },
  {
   "cell_type": "code",
   "execution_count": 2,
   "outputs": [],
   "source": [
    "f = open('practice.txt', 'w+')\n",
    "f.write('This is a test string')\n",
    "f.close()"
   ],
   "metadata": {
    "collapsed": false
   }
  },
  {
   "cell_type": "markdown",
   "source": [
    "## Getting Directories"
   ],
   "metadata": {
    "collapsed": false
   }
  },
  {
   "cell_type": "code",
   "execution_count": 3,
   "outputs": [],
   "source": [
    "import os"
   ],
   "metadata": {
    "collapsed": false
   }
  },
  {
   "cell_type": "code",
   "execution_count": 5,
   "outputs": [
    {
     "data": {
      "text/plain": "'/Users/dmitri/Learn/python/udemy/complete-python3-bootcamp/s14-advanced-python-modules'"
     },
     "execution_count": 5,
     "metadata": {},
     "output_type": "execute_result"
    }
   ],
   "source": [
    "os.getcwd()"
   ],
   "metadata": {
    "collapsed": false
   }
  },
  {
   "cell_type": "markdown",
   "source": [
    "## Listing Files in a Directory"
   ],
   "metadata": {
    "collapsed": false
   }
  },
  {
   "cell_type": "code",
   "execution_count": 6,
   "outputs": [
    {
     "data": {
      "text/plain": "['s14-105-opening-reading-files-folders.ipynb',\n 'practice.txt',\n 's14-104-python-collections-module.ipynb']"
     },
     "execution_count": 6,
     "metadata": {},
     "output_type": "execute_result"
    }
   ],
   "source": [
    "os.listdir()"
   ],
   "metadata": {
    "collapsed": false
   }
  },
  {
   "cell_type": "code",
   "execution_count": 7,
   "outputs": [
    {
     "data": {
      "text/plain": "['s07-milestone-project-1',\n 's02-setup',\n 's08-object-oriented-programming',\n 's04-python-comparison-operators',\n 's05-python-statements',\n 's09-modules-and-packages',\n 's12-python-decorators',\n 'README.md',\n 's13-python-generators',\n 's14-advanced-python-modules',\n 'venv',\n '.git',\n 's10-erros-and-exceptions-handling',\n 's06-methods-and-functions',\n 's03-object-and-data-structure-basics',\n 's11-milestone-project-2',\n '.idea']"
     },
     "execution_count": 7,
     "metadata": {},
     "output_type": "execute_result"
    }
   ],
   "source": [
    "os.listdir('..')"
   ],
   "metadata": {
    "collapsed": false
   }
  },
  {
   "cell_type": "markdown",
   "source": [
    "## Moving Files"
   ],
   "metadata": {
    "collapsed": false
   }
  },
  {
   "cell_type": "code",
   "execution_count": 8,
   "outputs": [],
   "source": [
    "import shutil"
   ],
   "metadata": {
    "collapsed": false
   }
  },
  {
   "cell_type": "code",
   "execution_count": 9,
   "outputs": [
    {
     "data": {
      "text/plain": "'./move-to-dir/practice.txt'"
     },
     "execution_count": 9,
     "metadata": {},
     "output_type": "execute_result"
    }
   ],
   "source": [
    "shutil.move('practice.txt', './move-to-dir')"
   ],
   "metadata": {
    "collapsed": false
   }
  },
  {
   "cell_type": "code",
   "execution_count": 10,
   "outputs": [
    {
     "data": {
      "text/plain": "['practice.txt']"
     },
     "execution_count": 10,
     "metadata": {},
     "output_type": "execute_result"
    }
   ],
   "source": [
    "os.listdir('./move-to-dir')"
   ],
   "metadata": {
    "collapsed": false
   }
  },
  {
   "cell_type": "markdown",
   "source": [
    "## Deleting Files"
   ],
   "metadata": {
    "collapsed": false
   }
  },
  {
   "cell_type": "code",
   "execution_count": 12,
   "outputs": [],
   "source": [
    "import send2trash"
   ],
   "metadata": {
    "collapsed": false
   }
  },
  {
   "cell_type": "code",
   "execution_count": 13,
   "outputs": [
    {
     "data": {
      "text/plain": "['s14-105-opening-reading-files-folders.ipynb',\n 'move-to-dir',\n 's14-104-python-collections-module.ipynb']"
     },
     "execution_count": 13,
     "metadata": {},
     "output_type": "execute_result"
    }
   ],
   "source": [
    "os.listdir()"
   ],
   "metadata": {
    "collapsed": false
   }
  },
  {
   "cell_type": "code",
   "execution_count": 14,
   "outputs": [
    {
     "data": {
      "text/plain": "'/Users/dmitri/Learn/python/udemy/complete-python3-bootcamp/s14-advanced-python-modules/practice.txt'"
     },
     "execution_count": 14,
     "metadata": {},
     "output_type": "execute_result"
    }
   ],
   "source": [
    "shutil.move('./move-to-dir/practice.txt', os.getcwd())"
   ],
   "metadata": {
    "collapsed": false
   }
  },
  {
   "cell_type": "code",
   "execution_count": 15,
   "outputs": [],
   "source": [
    "send2trash.send2trash('practice.txt')"
   ],
   "metadata": {
    "collapsed": false
   }
  },
  {
   "cell_type": "code",
   "execution_count": 16,
   "outputs": [
    {
     "data": {
      "text/plain": "['s14-105-opening-reading-files-folders.ipynb',\n 'move-to-dir',\n 's14-104-python-collections-module.ipynb']"
     },
     "execution_count": 16,
     "metadata": {},
     "output_type": "execute_result"
    }
   ],
   "source": [
    "os.listdir()"
   ],
   "metadata": {
    "collapsed": false
   }
  },
  {
   "cell_type": "markdown",
   "source": [
    "## Walking through a directory"
   ],
   "metadata": {
    "collapsed": false
   }
  },
  {
   "cell_type": "code",
   "execution_count": 22,
   "outputs": [
    {
     "name": "stdout",
     "output_type": "stream",
     "text": [
      "Currently looking at ./example-top-level\n",
      "\n",
      "The sub-folders are: \n",
      "\tSub-folder: mid-exampe-one\n",
      "The files are: \n",
      "\tFile: mid-example.txt\n",
      "==============================\n",
      "Currently looking at ./example-top-level/mid-exampe-one\n",
      "\n",
      "The sub-folders are: \n",
      "\tSub-folder: bottom-level-two\n",
      "\tSub-folder: bottom-level-one\n",
      "The files are: \n",
      "\tFile: mid-level-doc.txt\n",
      "==============================\n",
      "Currently looking at ./example-top-level/mid-exampe-one/bottom-level-two\n",
      "\n",
      "The sub-folders are: \n",
      "The files are: \n",
      "\tFile: bottom-text-two.txt\n",
      "==============================\n",
      "Currently looking at ./example-top-level/mid-exampe-one/bottom-level-one\n",
      "\n",
      "The sub-folders are: \n",
      "The files are: \n",
      "\tFile: one-text.txt\n",
      "==============================\n"
     ]
    }
   ],
   "source": [
    "for folder,sub_folders,files in os.walk('./example-top-level'):\n",
    "\n",
    "    print(f'Currently looking at {folder}\\n')\n",
    "    print('The sub-folders are: ')\n",
    "    for sub_folder in sub_folders:\n",
    "        print(f'\\tSub-folder: {sub_folder}')\n",
    "\n",
    "    print('The files are: ')\n",
    "    for f in files:\n",
    "        print(f'\\tFile: {f}')\n",
    "    print('='*30)\n"
   ],
   "metadata": {
    "collapsed": false
   }
  },
  {
   "cell_type": "code",
   "execution_count": null,
   "outputs": [],
   "source": [],
   "metadata": {
    "collapsed": false
   }
  }
 ],
 "metadata": {
  "kernelspec": {
   "display_name": "Python 3",
   "language": "python",
   "name": "python3"
  },
  "language_info": {
   "codemirror_mode": {
    "name": "ipython",
    "version": 2
   },
   "file_extension": ".py",
   "mimetype": "text/x-python",
   "name": "python",
   "nbconvert_exporter": "python",
   "pygments_lexer": "ipython2",
   "version": "2.7.6"
  }
 },
 "nbformat": 4,
 "nbformat_minor": 0
}
