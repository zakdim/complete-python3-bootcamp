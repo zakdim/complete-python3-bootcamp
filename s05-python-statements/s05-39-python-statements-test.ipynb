{
 "cells": [
  {
   "cell_type": "markdown",
   "source": [
    "# s05-39: Python Statements Test"
   ],
   "metadata": {
    "collapsed": false
   }
  },
  {
   "cell_type": "markdown",
   "source": [
    "**Use for, .split(), and if to create a Statement that will print out words that start with 's':**"
   ],
   "metadata": {
    "collapsed": false
   }
  },
  {
   "cell_type": "code",
   "execution_count": 24,
   "outputs": [],
   "source": [
    "st = 'Sam Print only the words that start with s in this sentence'"
   ],
   "metadata": {
    "collapsed": false
   }
  },
  {
   "cell_type": "code",
   "execution_count": 26,
   "outputs": [
    {
     "name": "stdout",
     "output_type": "stream",
     "text": [
      "Sam\n",
      "start\n",
      "s\n",
      "sentence\n"
     ]
    }
   ],
   "source": [
    "#Code here\n",
    "for word in st.split():\n",
    "    if word.lower().startswith('s'): # or word[0].lower == 's'\n",
    "        print(word)\n",
    "#    else:\n",
    "#        print(f'Word \"{word}\" does not start with \"s\"')\n"
   ],
   "metadata": {
    "collapsed": false
   }
  },
  {
   "cell_type": "markdown",
   "source": [
    "**Use range() to print all the even numbers from 0 to 10.**"
   ],
   "metadata": {
    "collapsed": false
   }
  },
  {
   "cell_type": "code",
   "execution_count": 28,
   "outputs": [
    {
     "name": "stdout",
     "output_type": "stream",
     "text": [
      "0\n",
      "2\n",
      "4\n",
      "6\n",
      "8\n",
      "10\n",
      "[0, 2, 4, 6, 8, 10]\n",
      "0\n",
      "2\n",
      "4\n",
      "6\n",
      "8\n",
      "10\n"
     ]
    }
   ],
   "source": [
    "for num in range(0,11):\n",
    "    if num % 2 == 0:\n",
    "        print(num)\n",
    "\n",
    "# or\n",
    "print([num for num in range(0,11) if num%2 == 0])\n",
    "# or\n",
    "list(range(0,11,2))\n",
    "# or\n",
    "for num in range(0,11,2):\n",
    "    print(num)"
   ],
   "metadata": {
    "collapsed": false
   }
  },
  {
   "cell_type": "markdown",
   "source": [
    "**Use a List Comprehension to create a list of all numbers between 1 and 50 that are divisible by 3.**"
   ],
   "metadata": {
    "collapsed": false
   }
  },
  {
   "cell_type": "code",
   "execution_count": 37,
   "outputs": [
    {
     "data": {
      "text/plain": "[3, 6, 9, 12, 15, 18, 21, 24, 27, 30, 33, 36, 39, 42, 45, 48]"
     },
     "execution_count": 37,
     "metadata": {},
     "output_type": "execute_result"
    }
   ],
   "source": [
    "list1 = [num for num in range(1,51) if num%3 == 0]\n",
    "list1"
   ],
   "metadata": {
    "collapsed": false
   }
  },
  {
   "cell_type": "markdown",
   "source": [
    "**Go through the string below and if the length of a word is even print \"even!\"**"
   ],
   "metadata": {
    "collapsed": false
   }
  },
  {
   "cell_type": "code",
   "execution_count": null,
   "outputs": [],
   "source": [
    "st = 'Print every word in this sentence that has an even number of letters'"
   ],
   "metadata": {
    "collapsed": false
   }
  },
  {
   "cell_type": "code",
   "execution_count": 14,
   "outputs": [
    {
     "name": "stdout",
     "output_type": "stream",
     "text": [
      "even: word \"only\", len=4\n",
      "even: word \"that\", len=4\n",
      "even: word \"with\", len=4\n",
      "even: word \"in\", len=2\n",
      "even: word \"this\", len=4\n",
      "even: word \"sentence\", len=8\n"
     ]
    }
   ],
   "source": [
    "#Code in this cell\n",
    "for word in st.split():\n",
    "    if len(word)%2 == 0:\n",
    "        print(f'even: word \"{word}\", len={len(word)}')"
   ],
   "metadata": {
    "collapsed": false
   }
  },
  {
   "cell_type": "markdown",
   "source": [
    "**Write a program that prints the integers from 1 to 100. But for multiples of three print \"Fizz\" instead of the number, and for the multiples of five print \"Buzz\". For numbers which are multiples of both three and five print \"FizzBuzz\".**"
   ],
   "metadata": {
    "collapsed": false
   }
  },
  {
   "cell_type": "code",
   "execution_count": 38,
   "outputs": [
    {
     "name": "stdout",
     "output_type": "stream",
     "text": [
      "  1\n",
      "  2\n",
      "  3: Fizz\n",
      "  4\n",
      "  5: Buzz\n",
      "  6: Fizz\n",
      "  7\n",
      "  8\n",
      "  9: Fizz\n",
      " 10: Buzz\n",
      " 11\n",
      " 12: Fizz\n",
      " 13\n",
      " 14\n",
      " 15: FizzBuzz\n",
      " 16\n",
      " 17\n",
      " 18: Fizz\n",
      " 19\n",
      " 20: Buzz\n",
      " 21: Fizz\n",
      " 22\n",
      " 23\n",
      " 24: Fizz\n",
      " 25: Buzz\n",
      " 26\n",
      " 27: Fizz\n",
      " 28\n",
      " 29\n",
      " 30: FizzBuzz\n",
      " 31\n",
      " 32\n",
      " 33: Fizz\n",
      " 34\n",
      " 35: Buzz\n",
      " 36: Fizz\n",
      " 37\n",
      " 38\n",
      " 39: Fizz\n",
      " 40: Buzz\n",
      " 41\n",
      " 42: Fizz\n",
      " 43\n",
      " 44\n",
      " 45: FizzBuzz\n",
      " 46\n",
      " 47\n",
      " 48: Fizz\n",
      " 49\n",
      " 50: Buzz\n",
      " 51: Fizz\n",
      " 52\n",
      " 53\n",
      " 54: Fizz\n",
      " 55: Buzz\n",
      " 56\n",
      " 57: Fizz\n",
      " 58\n",
      " 59\n",
      " 60: FizzBuzz\n",
      " 61\n",
      " 62\n",
      " 63: Fizz\n",
      " 64\n",
      " 65: Buzz\n",
      " 66: Fizz\n",
      " 67\n",
      " 68\n",
      " 69: Fizz\n",
      " 70: Buzz\n",
      " 71\n",
      " 72: Fizz\n",
      " 73\n",
      " 74\n",
      " 75: FizzBuzz\n",
      " 76\n",
      " 77\n",
      " 78: Fizz\n",
      " 79\n",
      " 80: Buzz\n",
      " 81: Fizz\n",
      " 82\n",
      " 83\n",
      " 84: Fizz\n",
      " 85: Buzz\n",
      " 86\n",
      " 87: Fizz\n",
      " 88\n",
      " 89\n",
      " 90: FizzBuzz\n",
      " 91\n",
      " 92\n",
      " 93: Fizz\n",
      " 94\n",
      " 95: Buzz\n",
      " 96: Fizz\n",
      " 97\n",
      " 98\n",
      " 99: Fizz\n",
      "100: Buzz\n"
     ]
    }
   ],
   "source": [
    "#Code in this cell\n",
    "for num in range(1,101):\n",
    "    if num%3 == 0 and num%5 == 0:\n",
    "        print(f'{num:-3d}: FizzBuzz')\n",
    "    elif num%3 == 0:\n",
    "        print(f'{num:-3d}: Fizz')\n",
    "    elif num%5 == 0:\n",
    "        print(f'{num:-3d}: Buzz')\n",
    "    else:\n",
    "        print(f'{num:-3d}')"
   ],
   "metadata": {
    "collapsed": false
   }
  },
  {
   "cell_type": "markdown",
   "source": [
    "**Use List Comprehension to create a list of the first letters of every word in the string below:**"
   ],
   "metadata": {
    "collapsed": false
   }
  },
  {
   "cell_type": "code",
   "execution_count": 21,
   "outputs": [],
   "source": [
    "st = 'Create a list of the first letters of every word in this string'"
   ],
   "metadata": {
    "collapsed": false
   }
  },
  {
   "cell_type": "code",
   "execution_count": 23,
   "outputs": [
    {
     "data": {
      "text/plain": "['C', 'a', 'l', 'o', 't', 'f', 'l', 'o', 'e', 'w', 'i', 't', 's']"
     },
     "execution_count": 23,
     "metadata": {},
     "output_type": "execute_result"
    }
   ],
   "source": [
    "#Code in this cell\n",
    "mylist = [word[0] for word in st.split()]\n",
    "mylist"
   ],
   "metadata": {
    "collapsed": false
   }
  }
 ],
 "metadata": {
  "kernelspec": {
   "display_name": "Python 3",
   "language": "python",
   "name": "python3"
  },
  "language_info": {
   "codemirror_mode": {
    "name": "ipython",
    "version": 2
   },
   "file_extension": ".py",
   "mimetype": "text/x-python",
   "name": "python",
   "nbconvert_exporter": "python",
   "pygments_lexer": "ipython2",
   "version": "2.7.6"
  }
 },
 "nbformat": 4,
 "nbformat_minor": 0
}
