{
 "cells": [
  {
   "cell_type": "markdown",
   "source": [
    "# s11: Milestone Project-2 - Warmup"
   ],
   "metadata": {
    "collapsed": false
   }
  },
  {
   "cell_type": "markdown",
   "source": [
    "## s11-87: Card Class"
   ],
   "metadata": {
    "collapsed": false
   }
  },
  {
   "cell_type": "code",
   "execution_count": 5,
   "outputs": [],
   "source": [
    "# CARD\n",
    "# SUIT, RANK, VALUE\n",
    "import random\n",
    "suits = ('Hearts', 'Diamonds', 'Spades', 'Clubs')\n",
    "ranks = ('Two', 'Three', 'Four', 'Five', 'Six', 'Seven', 'Eight', 'Nine', 'Ten', 'Jack', 'Queen', 'King', 'Ace')\n",
    "values = {'Two':2, 'Three':3, 'Four':4, 'Five':5, 'Six':6, 'Seven':7, 'Eight':8,\n",
    "          'Nine':9, 'Ten':10, 'Jack':11, 'Queen':12, 'King':13, 'Ace':14}"
   ],
   "metadata": {
    "collapsed": false
   }
  },
  {
   "cell_type": "markdown",
   "source": [
    "## Single Card Class"
   ],
   "metadata": {
    "collapsed": false
   }
  },
  {
   "cell_type": "code",
   "execution_count": 4,
   "outputs": [],
   "source": [
    "class Card:\n",
    "\n",
    "    def __init__(self, suit, rank):\n",
    "        self.suit = suit\n",
    "        self.rank = rank\n",
    "        self.value = values[rank]\n",
    "\n",
    "    def __str__(self):\n",
    "        return \"{} of {}\".format(self.rank, self.suit)\n"
   ],
   "metadata": {
    "collapsed": false
   }
  },
  {
   "cell_type": "code",
   "execution_count": 3,
   "outputs": [],
   "source": [
    "two_hearts = Card(\"Hearts\", \"Two\")"
   ],
   "metadata": {
    "collapsed": false
   }
  },
  {
   "cell_type": "code",
   "execution_count": 4,
   "outputs": [
    {
     "data": {
      "text/plain": "<__main__.Card at 0x7f7b83a6f940>"
     },
     "execution_count": 4,
     "metadata": {},
     "output_type": "execute_result"
    }
   ],
   "source": [
    "two_hearts"
   ],
   "metadata": {
    "collapsed": false
   }
  },
  {
   "cell_type": "code",
   "execution_count": 5,
   "outputs": [
    {
     "name": "stdout",
     "output_type": "stream",
     "text": [
      "Two of Hearts\n"
     ]
    }
   ],
   "source": [
    "print(two_hearts)"
   ],
   "metadata": {
    "collapsed": false
   }
  },
  {
   "cell_type": "code",
   "execution_count": 6,
   "outputs": [
    {
     "data": {
      "text/plain": "'Hearts'"
     },
     "execution_count": 6,
     "metadata": {},
     "output_type": "execute_result"
    }
   ],
   "source": [
    "two_hearts.suit"
   ],
   "metadata": {
    "collapsed": false
   }
  },
  {
   "cell_type": "code",
   "execution_count": 7,
   "outputs": [
    {
     "data": {
      "text/plain": "'Two'"
     },
     "execution_count": 7,
     "metadata": {},
     "output_type": "execute_result"
    }
   ],
   "source": [
    "two_hearts.rank"
   ],
   "metadata": {
    "collapsed": false
   }
  },
  {
   "cell_type": "code",
   "execution_count": 8,
   "outputs": [
    {
     "data": {
      "text/plain": "2"
     },
     "execution_count": 8,
     "metadata": {},
     "output_type": "execute_result"
    }
   ],
   "source": [
    "two_hearts.value"
   ],
   "metadata": {
    "collapsed": false
   }
  },
  {
   "cell_type": "code",
   "execution_count": 9,
   "outputs": [
    {
     "data": {
      "text/plain": "2"
     },
     "execution_count": 9,
     "metadata": {},
     "output_type": "execute_result"
    }
   ],
   "source": [
    "values[two_hearts.rank]"
   ],
   "metadata": {
    "collapsed": false
   }
  },
  {
   "cell_type": "code",
   "execution_count": 10,
   "outputs": [],
   "source": [
    "three_of_clubs = Card(\"Clubs\", \"Three\")"
   ],
   "metadata": {
    "collapsed": false
   }
  },
  {
   "cell_type": "code",
   "execution_count": 11,
   "outputs": [
    {
     "data": {
      "text/plain": "'Clubs'"
     },
     "execution_count": 11,
     "metadata": {},
     "output_type": "execute_result"
    }
   ],
   "source": [
    "three_of_clubs.suit"
   ],
   "metadata": {
    "collapsed": false
   }
  },
  {
   "cell_type": "code",
   "execution_count": 12,
   "outputs": [
    {
     "data": {
      "text/plain": "'Three'"
     },
     "execution_count": 12,
     "metadata": {},
     "output_type": "execute_result"
    }
   ],
   "source": [
    "three_of_clubs.rank"
   ],
   "metadata": {
    "collapsed": false
   }
  },
  {
   "cell_type": "code",
   "execution_count": 13,
   "outputs": [
    {
     "data": {
      "text/plain": "3"
     },
     "execution_count": 13,
     "metadata": {},
     "output_type": "execute_result"
    }
   ],
   "source": [
    "three_of_clubs.value"
   ],
   "metadata": {
    "collapsed": false
   }
  },
  {
   "cell_type": "code",
   "execution_count": 14,
   "outputs": [
    {
     "data": {
      "text/plain": "True"
     },
     "execution_count": 14,
     "metadata": {},
     "output_type": "execute_result"
    }
   ],
   "source": [
    "two_hearts.value < three_of_clubs.value"
   ],
   "metadata": {
    "collapsed": false
   }
  },
  {
   "cell_type": "markdown",
   "source": [
    "## s11-88: Deck Class"
   ],
   "metadata": {
    "collapsed": false
   }
  },
  {
   "cell_type": "code",
   "execution_count": 3,
   "outputs": [],
   "source": [
    "class Deck:\n",
    "\n",
    "    def __init__(self):\n",
    "        self.all_cards = []\n",
    "\n",
    "        for suit in suits:\n",
    "            for rank in ranks:\n",
    "                # Create the Card Object\n",
    "                created_card = Card(suit, rank)\n",
    "                self.all_cards.append(created_card)\n",
    "\n",
    "    def shuffle(self):\n",
    "        random.shuffle(self.all_cards)\n",
    "\n",
    "    def deal_one(self):\n",
    "        return self.all_cards.pop()"
   ],
   "metadata": {
    "collapsed": false
   }
  },
  {
   "cell_type": "code",
   "execution_count": 40,
   "outputs": [],
   "source": [
    "new_deck = Deck()"
   ],
   "metadata": {
    "collapsed": false
   }
  },
  {
   "cell_type": "code",
   "execution_count": 25,
   "outputs": [],
   "source": [
    "first_card = new_deck.all_cards[0]"
   ],
   "metadata": {
    "collapsed": false
   }
  },
  {
   "cell_type": "code",
   "execution_count": 26,
   "outputs": [
    {
     "name": "stdout",
     "output_type": "stream",
     "text": [
      "Two of Hearts\n"
     ]
    }
   ],
   "source": [
    "print(first_card)"
   ],
   "metadata": {
    "collapsed": false
   }
  },
  {
   "cell_type": "code",
   "execution_count": 27,
   "outputs": [],
   "source": [
    "bottom_card = new_deck.all_cards[-1]"
   ],
   "metadata": {
    "collapsed": false
   }
  },
  {
   "cell_type": "code",
   "execution_count": 28,
   "outputs": [
    {
     "name": "stdout",
     "output_type": "stream",
     "text": [
      "Ace of Clubs\n"
     ]
    }
   ],
   "source": [
    "print(bottom_card)"
   ],
   "metadata": {
    "collapsed": false
   }
  },
  {
   "cell_type": "code",
   "execution_count": 29,
   "outputs": [
    {
     "name": "stdout",
     "output_type": "stream",
     "text": [
      "Two of Hearts\n",
      "Three of Hearts\n",
      "Four of Hearts\n",
      "Five of Hearts\n",
      "Six of Hearts\n",
      "Seven of Hearts\n",
      "Eight of Hearts\n",
      "Nine of Hearts\n",
      "Ten of Hearts\n",
      "Jack of Hearts\n",
      "Queen of Hearts\n",
      "King of Hearts\n",
      "Ace of Hearts\n",
      "Two of Diamonds\n",
      "Three of Diamonds\n",
      "Four of Diamonds\n",
      "Five of Diamonds\n",
      "Six of Diamonds\n",
      "Seven of Diamonds\n",
      "Eight of Diamonds\n",
      "Nine of Diamonds\n",
      "Ten of Diamonds\n",
      "Jack of Diamonds\n",
      "Queen of Diamonds\n",
      "King of Diamonds\n",
      "Ace of Diamonds\n",
      "Two of Spades\n",
      "Three of Spades\n",
      "Four of Spades\n",
      "Five of Spades\n",
      "Six of Spades\n",
      "Seven of Spades\n",
      "Eight of Spades\n",
      "Nine of Spades\n",
      "Ten of Spades\n",
      "Jack of Spades\n",
      "Queen of Spades\n",
      "King of Spades\n",
      "Ace of Spades\n",
      "Two of Clubs\n",
      "Three of Clubs\n",
      "Four of Clubs\n",
      "Five of Clubs\n",
      "Six of Clubs\n",
      "Seven of Clubs\n",
      "Eight of Clubs\n",
      "Nine of Clubs\n",
      "Ten of Clubs\n",
      "Jack of Clubs\n",
      "Queen of Clubs\n",
      "King of Clubs\n",
      "Ace of Clubs\n"
     ]
    }
   ],
   "source": [
    "for card_object in new_deck.all_cards:\n",
    "    print(card_object)"
   ],
   "metadata": {
    "collapsed": false
   }
  },
  {
   "cell_type": "code",
   "execution_count": 30,
   "outputs": [],
   "source": [
    "mylist = [1,2,3,4,5]"
   ],
   "metadata": {
    "collapsed": false
   }
  },
  {
   "cell_type": "code",
   "execution_count": 31,
   "outputs": [],
   "source": [
    "random.shuffle(mylist)"
   ],
   "metadata": {
    "collapsed": false
   }
  },
  {
   "cell_type": "code",
   "execution_count": 32,
   "outputs": [
    {
     "data": {
      "text/plain": "[4, 1, 5, 2, 3]"
     },
     "execution_count": 32,
     "metadata": {},
     "output_type": "execute_result"
    }
   ],
   "source": [
    "mylist"
   ],
   "metadata": {
    "collapsed": false
   }
  },
  {
   "cell_type": "code",
   "execution_count": 35,
   "outputs": [],
   "source": [
    "bottom_card = new_deck.all_cards[-1]"
   ],
   "metadata": {
    "collapsed": false
   }
  },
  {
   "cell_type": "code",
   "execution_count": 36,
   "outputs": [
    {
     "name": "stdout",
     "output_type": "stream",
     "text": [
      "Ace of Clubs\n"
     ]
    }
   ],
   "source": [
    "print(bottom_card)"
   ],
   "metadata": {
    "collapsed": false
   }
  },
  {
   "cell_type": "code",
   "execution_count": 41,
   "outputs": [],
   "source": [
    "new_deck.shuffle()"
   ],
   "metadata": {
    "collapsed": false
   }
  },
  {
   "cell_type": "code",
   "execution_count": 38,
   "outputs": [
    {
     "name": "stdout",
     "output_type": "stream",
     "text": [
      "Queen of Spades\n"
     ]
    }
   ],
   "source": [
    "print(new_deck.all_cards[-1])"
   ],
   "metadata": {
    "collapsed": false
   }
  },
  {
   "cell_type": "code",
   "execution_count": 42,
   "outputs": [],
   "source": [
    "mycard = new_deck.deal_one()"
   ],
   "metadata": {
    "collapsed": false
   }
  },
  {
   "cell_type": "code",
   "execution_count": 43,
   "outputs": [
    {
     "data": {
      "text/plain": "<__main__.Card at 0x7f7b83a6fe80>"
     },
     "execution_count": 43,
     "metadata": {},
     "output_type": "execute_result"
    }
   ],
   "source": [
    "mycard"
   ],
   "metadata": {
    "collapsed": false
   }
  },
  {
   "cell_type": "code",
   "execution_count": 44,
   "outputs": [
    {
     "name": "stdout",
     "output_type": "stream",
     "text": [
      "Two of Clubs\n"
     ]
    }
   ],
   "source": [
    "print(mycard)"
   ],
   "metadata": {
    "collapsed": false
   }
  },
  {
   "cell_type": "code",
   "execution_count": 45,
   "outputs": [
    {
     "data": {
      "text/plain": "51"
     },
     "execution_count": 45,
     "metadata": {},
     "output_type": "execute_result"
    }
   ],
   "source": [
    "len(new_deck.all_cards)"
   ],
   "metadata": {
    "collapsed": false
   }
  },
  {
   "cell_type": "markdown",
   "source": [
    "## s11-88: Player Class"
   ],
   "metadata": {
    "collapsed": false
   }
  },
  {
   "cell_type": "code",
   "execution_count": 1,
   "outputs": [],
   "source": [
    "class Player:\n",
    "\n",
    "    def __init__(self, name):\n",
    "        self.name = name\n",
    "        self.all_cards = []\n",
    "\n",
    "    def remove_one(self):\n",
    "        return self.all_cards.pop(0)\n",
    "\n",
    "    def add_cards(self, new_cards):\n",
    "        if type(new_cards) == type([]):\n",
    "            # List of multiple Card objects\n",
    "            self.all_cards.extend(new_cards)\n",
    "        else:\n",
    "            # For a single card object\n",
    "            self.all_cards.append(new_cards)\n",
    "\n",
    "    def __str__(self):\n",
    "        return f'Player {self.name} has {len(self.all_cards)} cards.'\n"
   ],
   "metadata": {
    "collapsed": false
   }
  },
  {
   "cell_type": "code",
   "execution_count": 50,
   "outputs": [],
   "source": [
    "new_player = Player('Jose')"
   ],
   "metadata": {
    "collapsed": false
   }
  },
  {
   "cell_type": "code",
   "execution_count": 51,
   "outputs": [
    {
     "name": "stdout",
     "output_type": "stream",
     "text": [
      "Player Jose has 0 cards.\n"
     ]
    }
   ],
   "source": [
    "print(new_player)"
   ],
   "metadata": {
    "collapsed": false
   }
  },
  {
   "cell_type": "code",
   "execution_count": 53,
   "outputs": [],
   "source": [
    "new_player.add_cards(mycard)"
   ],
   "metadata": {
    "collapsed": false
   }
  },
  {
   "cell_type": "code",
   "execution_count": 54,
   "outputs": [
    {
     "name": "stdout",
     "output_type": "stream",
     "text": [
      "Two of Clubs\n"
     ]
    }
   ],
   "source": [
    "print(mycard)"
   ],
   "metadata": {
    "collapsed": false
   }
  },
  {
   "cell_type": "code",
   "execution_count": 56,
   "outputs": [
    {
     "name": "stdout",
     "output_type": "stream",
     "text": [
      "Player Jose has 1 cards.\n"
     ]
    }
   ],
   "source": [
    "print(new_player)"
   ],
   "metadata": {
    "collapsed": false
   }
  },
  {
   "cell_type": "code",
   "execution_count": 57,
   "outputs": [
    {
     "name": "stdout",
     "output_type": "stream",
     "text": [
      "Two of Clubs\n"
     ]
    }
   ],
   "source": [
    "print((new_player.all_cards[0]))"
   ],
   "metadata": {
    "collapsed": false
   }
  },
  {
   "cell_type": "code",
   "execution_count": 58,
   "outputs": [],
   "source": [
    "new_player.add_cards([mycard, mycard, mycard])"
   ],
   "metadata": {
    "collapsed": false
   }
  },
  {
   "cell_type": "code",
   "execution_count": 59,
   "outputs": [
    {
     "name": "stdout",
     "output_type": "stream",
     "text": [
      "Player Jose has 4 cards.\n"
     ]
    }
   ],
   "source": [
    "print(new_player)"
   ],
   "metadata": {
    "collapsed": false
   }
  },
  {
   "cell_type": "code",
   "execution_count": 60,
   "outputs": [
    {
     "data": {
      "text/plain": "<__main__.Card at 0x7f7b83a6fe80>"
     },
     "execution_count": 60,
     "metadata": {},
     "output_type": "execute_result"
    }
   ],
   "source": [
    "new_player.remove_one()"
   ],
   "metadata": {
    "collapsed": false
   }
  },
  {
   "cell_type": "markdown",
   "source": [
    "## War Game Logic"
   ],
   "metadata": {
    "collapsed": false
   }
  },
  {
   "cell_type": "code",
   "execution_count": 36,
   "outputs": [
    {
     "data": {
      "text/plain": "26.0"
     },
     "execution_count": 36,
     "metadata": {},
     "output_type": "execute_result"
    }
   ],
   "source": [
    "# Game setup\n",
    "player_one = Player(\"One\")\n",
    "player_two = Player(\"Two\")\n",
    "\n",
    "new_deck = Deck()\n",
    "new_deck.shuffle()\n",
    "\n",
    "len(new_deck.all_cards) / 2"
   ],
   "metadata": {
    "collapsed": false
   }
  },
  {
   "cell_type": "code",
   "execution_count": 37,
   "outputs": [],
   "source": [
    "for x in range(26):\n",
    "    player_one.add_cards(new_deck.deal_one())\n",
    "    player_two.add_cards(new_deck.deal_one())"
   ],
   "metadata": {
    "collapsed": false
   }
  },
  {
   "cell_type": "code",
   "execution_count": 38,
   "outputs": [
    {
     "name": "stdout",
     "output_type": "stream",
     "text": [
      "26\n",
      "Five of Spades\n"
     ]
    }
   ],
   "source": [
    "print(len(player_one.all_cards))\n",
    "print(player_one.all_cards[0])"
   ],
   "metadata": {
    "collapsed": false
   }
  },
  {
   "cell_type": "code",
   "execution_count": 39,
   "outputs": [
    {
     "name": "stdout",
     "output_type": "stream",
     "text": [
      "Round 1\n",
      "Player Two card wins: Ace of Spades > Five of Spades\n",
      "Round 2\n",
      "Player One card wins: Jack of Clubs > Three of Clubs\n",
      "Round 3\n",
      "Player Two card wins: Nine of Diamonds > Four of Spades\n",
      "Round 4\n",
      "Player One card wins: Ace of Hearts > King of Diamonds\n",
      "Round 5\n",
      "Player Two card wins: Ten of Clubs > Eight of Hearts\n",
      "Round 6\n",
      "Player One card wins: King of Clubs > Eight of Diamonds\n",
      "Round 7\n",
      "Player One card wins: Jack of Spades > Ten of Diamonds\n",
      "Round 8\n",
      "Player One card wins: Nine of Spades > Eight of Spades\n",
      "Round 9\n",
      "Player One card wins: Queen of Diamonds > Two of Diamonds\n",
      "Round 10\n",
      "Player Two card wins: Jack of Diamonds > Two of Clubs\n",
      "Round 11\n",
      "Player One card wins: King of Spades > Six of Hearts\n",
      "Round 12\n",
      "Player Two card wins: Queen of Hearts > Five of Hearts\n",
      "Round 13\n",
      "Player One card wins: Ace of Clubs > Seven of Spades\n",
      "Round 14\n",
      "Player Two card wins: Queen of Clubs > Seven of Clubs\n",
      "Round 15\n",
      "Player One card wins: Five of Diamonds > Three of Diamonds\n",
      "Round 16\n",
      "Player One card wins: King of Hearts > Nine of Clubs\n",
      "Round 17\n",
      "Player Two card wins: Six of Clubs > Two of Spades\n",
      "Round 18\n",
      "Player Two card wins: Jack of Hearts > Three of Spades\n",
      "Round 19\n",
      "Player Two card wins: Ten of Hearts > Seven of Hearts\n",
      "Round 20\n",
      "Player One card wins: Nine of Hearts > Three of Hearts\n",
      "Round 21\n",
      "Player One card wins: Eight of Clubs > Six of Spades\n",
      "Round 22\n",
      "Player One card wins: Seven of Diamonds > Six of Diamonds\n",
      "Round 23\n",
      "Player One card wins: Five of Clubs > Two of Hearts\n",
      "Round 24\n",
      "Player Two card wins: Queen of Spades > Ten of Spades\n",
      "Round 25\n",
      "WAR! Player One card is equal to Player Two card: Four of Clubs == Four of Diamonds\n",
      "Player One card wins: King of Diamonds > Nine of Diamonds\n",
      "Round 26\n",
      "Player One card wins: King of Clubs > Eight of Hearts\n",
      "Round 27\n",
      "Player Two card wins: Ten of Clubs > Eight of Diamonds\n",
      "Round 28\n",
      "Player One card wins: Jack of Spades > Two of Clubs\n",
      "Round 29\n",
      "Player Two card wins: Jack of Diamonds > Ten of Diamonds\n",
      "Round 30\n",
      "Player One card wins: Nine of Spades > Five of Hearts\n",
      "Round 31\n",
      "Player Two card wins: Queen of Hearts > Eight of Spades\n",
      "Round 32\n",
      "Player One card wins: Queen of Diamonds > Seven of Clubs\n",
      "Round 33\n",
      "Player Two card wins: Queen of Clubs > Two of Diamonds\n",
      "Round 34\n",
      "Player One card wins: King of Spades > Two of Spades\n",
      "Round 35\n",
      "WAR! Player One card is equal to Player Two card: Six of Hearts == Six of Clubs\n",
      "Player One card wins: King of Hearts > Ten of Spades\n",
      "Round 36\n",
      "Player Two card wins: Queen of Spades > Nine of Clubs\n",
      "Round 37\n",
      "Player One card wins: Nine of Hearts > Eight of Diamonds\n",
      "Round 38\n",
      "Player Two card wins: Ten of Clubs > Three of Hearts\n",
      "Round 39\n",
      "Player Two card wins: Ten of Diamonds > Eight of Clubs\n",
      "Round 40\n",
      "Player Two card wins: Jack of Diamonds > Six of Spades\n",
      "Round 41\n",
      "Player Two card wins: Eight of Spades > Seven of Diamonds\n",
      "Round 42\n",
      "Player Two card wins: Queen of Hearts > Six of Diamonds\n",
      "Round 43\n",
      "Player One card wins: Five of Clubs > Two of Diamonds\n",
      "Round 44\n",
      "Player Two card wins: Queen of Clubs > Two of Hearts\n",
      "Round 45\n",
      "Player Two card wins: Nine of Clubs > Four of Clubs\n",
      "Round 46\n",
      "Player One card wins: Ace of Diamonds > Queen of Spades\n",
      "Round 47\n",
      "Player One card wins: Jack of Clubs > Three of Hearts\n",
      "Round 48\n",
      "Player Two card wins: Ten of Clubs > Three of Clubs\n",
      "Round 49\n",
      "Player One card wins: Ace of Hearts > Eight of Clubs\n",
      "Round 50\n",
      "Player One card wins: King of Diamonds > Ten of Diamonds\n",
      "Round 51\n",
      "Player Two card wins: Six of Spades > Four of Diamonds\n",
      "Round 52\n",
      "Player Two card wins: Jack of Diamonds > Four of Hearts\n",
      "Round 53\n",
      "Player Two card wins: Seven of Diamonds > Five of Spades\n",
      "Round 54\n",
      "Player One card wins: Ace of Spades > Eight of Spades\n",
      "Round 55\n",
      "Player Two card wins: Six of Diamonds > Four of Spades\n",
      "Round 56\n",
      "Player Two card wins: Queen of Hearts > Nine of Diamonds\n",
      "Round 57\n",
      "Player One card wins: King of Clubs > Two of Hearts\n",
      "Round 58\n",
      "Player Two card wins: Queen of Clubs > Eight of Hearts\n",
      "Round 59\n",
      "Player One card wins: Jack of Spades > Four of Clubs\n",
      "Round 60\n",
      "Player Two card wins: Nine of Clubs > Two of Clubs\n",
      "Round 61\n",
      "Player One card wins: Nine of Spades > Three of Clubs\n",
      "Round 62\n",
      "Player Two card wins: Ten of Clubs > Five of Hearts\n",
      "Round 63\n",
      "Player One card wins: Queen of Diamonds > Four of Diamonds\n",
      "Round 64\n",
      "Player One card wins: Seven of Clubs > Six of Spades\n",
      "Round 65\n",
      "Player One card wins: King of Spades > Four of Hearts\n",
      "Round 66\n",
      "Player Two card wins: Jack of Diamonds > Two of Spades\n",
      "Round 67\n",
      "Player One card wins: Six of Hearts > Five of Spades\n",
      "Round 68\n",
      "Player One card wins: Ace of Clubs > Seven of Diamonds\n",
      "Round 69\n",
      "Player One card wins: Seven of Spades > Four of Spades\n",
      "Round 70\n",
      "Player Two card wins: Six of Diamonds > Five of Diamonds\n",
      "Round 71\n",
      "Player Two card wins: Nine of Diamonds > Three of Diamonds\n",
      "Round 72\n",
      "Player One card wins: King of Hearts > Queen of Hearts\n",
      "Round 73\n",
      "Player Two card wins: Eight of Hearts > Six of Clubs\n",
      "Round 74\n",
      "Player Two card wins: Queen of Clubs > Three of Spades\n",
      "Round 75\n",
      "Player One card wins: Jack of Hearts > Two of Clubs\n",
      "Round 76\n",
      "Player Two card wins: Nine of Clubs > Seven of Hearts\n",
      "Round 77\n",
      "Player One card wins: Ten of Hearts > Five of Hearts\n",
      "Round 78\n",
      "WAR! Player One card is equal to Player Two card: Ten of Spades == Ten of Clubs\n",
      "Player One card wins: Ace of Diamonds > Three of Diamonds\n",
      "Round 79\n",
      "Player One card wins: Queen of Spades > Nine of Diamonds\n",
      "Round 80\n",
      "Player One card wins: Jack of Clubs > Six of Clubs\n",
      "Round 81\n",
      "Player Two card wins: Eight of Hearts > Three of Hearts\n",
      "Round 82\n",
      "Player One card wins: Ace of Hearts > Three of Spades\n",
      "Round 83\n",
      "Player Two card wins: Queen of Clubs > Eight of Clubs\n",
      "Round 84\n",
      "Player One card wins: King of Diamonds > Seven of Hearts\n",
      "Round 85\n",
      "Player One card wins: Ten of Diamonds > Nine of Clubs\n",
      "Round 86\n",
      "Player One card wins: Ace of Spades > Three of Hearts\n",
      "Round 87\n",
      "WAR! Player One card is equal to Player Two card: Eight of Spades == Eight of Hearts\n",
      "Player Two unable to declare a war. Player One wins!\n"
     ]
    }
   ],
   "source": [
    "game_on = True\n",
    "round_num = 0\n",
    "\n",
    "while game_on:\n",
    "\n",
    "    round_num += 1\n",
    "    print(f'Round {round_num}')\n",
    "\n",
    "    if len(player_one.all_cards) == 0:\n",
    "        print('Player One, out of cards! Player Two Wins!')\n",
    "        game_on = False\n",
    "        break\n",
    "\n",
    "    if len(player_two.all_cards) == 0:\n",
    "        print('Player Two, out of cards! Player One Wins!')\n",
    "        game_on = False\n",
    "        break\n",
    "\n",
    "    # Start a new round\n",
    "    player_one_cards = []\n",
    "    player_one_cards.append(player_one.remove_one())\n",
    "\n",
    "    player_two_cards = []\n",
    "    player_two_cards.append(player_two.remove_one())\n",
    "\n",
    "    at_war = True\n",
    "\n",
    "    while at_war:\n",
    "\n",
    "        if player_one_cards[-1].value > player_two_cards[-1].value:\n",
    "            print(f'Player One card wins: {player_one_cards[-1]} > {player_two_cards[-1]}')\n",
    "            player_one.add_cards(player_one_cards)\n",
    "            player_one.add_cards(player_two_cards)\n",
    "\n",
    "            at_war = False\n",
    "\n",
    "        elif player_one_cards[-1].value < player_two_cards[-1].value:\n",
    "            print(f'Player Two card wins: {player_two_cards[-1]} > {player_one_cards[-1]}')\n",
    "            player_two.add_cards(player_one_cards)\n",
    "            player_two.add_cards(player_two_cards)\n",
    "\n",
    "            at_war = False\n",
    "\n",
    "        else:\n",
    "            print(f'WAR! Player One card is equal to Player Two card: {player_one_cards[-1]} == {player_two_cards[-1]}')\n",
    "\n",
    "            if len(player_one.all_cards) < 5:\n",
    "                print('Player One unable to declare a war. Player Two wins!')\n",
    "                game_on = False\n",
    "                break\n",
    "\n",
    "            elif len(player_two.all_cards) < 5:\n",
    "                print('Player Two unable to declare a war. Player One wins!')\n",
    "                game_on = False\n",
    "                break\n",
    "\n",
    "            else:\n",
    "                for num in range(5):\n",
    "                    player_one_cards.append(player_one.remove_one())\n",
    "                    player_two_cards.append(player_two.remove_one())\n",
    "\n"
   ],
   "metadata": {
    "collapsed": false
   }
  },
  {
   "cell_type": "code",
   "execution_count": null,
   "outputs": [],
   "source": [],
   "metadata": {
    "collapsed": false
   }
  }
 ],
 "metadata": {
  "kernelspec": {
   "display_name": "Python 3",
   "language": "python",
   "name": "python3"
  },
  "language_info": {
   "codemirror_mode": {
    "name": "ipython",
    "version": 2
   },
   "file_extension": ".py",
   "mimetype": "text/x-python",
   "name": "python",
   "nbconvert_exporter": "python",
   "pygments_lexer": "ipython2",
   "version": "2.7.6"
  }
 },
 "nbformat": 4,
 "nbformat_minor": 0
}
