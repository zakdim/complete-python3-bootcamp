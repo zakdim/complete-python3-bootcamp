{
 "cells": [
  {
   "cell_type": "markdown",
   "source": [
    "# s21-149: List of Possible Widgets"
   ],
   "metadata": {
    "collapsed": false
   }
  },
  {
   "cell_type": "code",
   "execution_count": 9,
   "outputs": [
    {
     "name": "stdout",
     "output_type": "stream",
     "text": [
      "LayoutModel\n",
      "AccordionModel\n",
      "AudioModel\n",
      "BoundedFloatTextModel\n",
      "BoundedIntTextModel\n",
      "BoxModel\n",
      "ButtonModel\n",
      "ButtonStyleModel\n",
      "CheckboxModel\n",
      "CheckboxStyleModel\n",
      "ColorPickerModel\n",
      "ColorsInputModel\n",
      "ComboboxModel\n",
      "ControllerAxisModel\n",
      "ControllerButtonModel\n",
      "ControllerModel\n",
      "DOMWidgetModel\n",
      "DatePickerModel\n",
      "DatetimeModel\n",
      "DescriptionStyleModel\n",
      "DirectionalLinkModel\n",
      "DropdownModel\n",
      "FileUploadModel\n",
      "FloatLogSliderModel\n",
      "FloatProgressModel\n",
      "FloatRangeSliderModel\n",
      "FloatSliderModel\n",
      "FloatTextModel\n",
      "FloatsInputModel\n",
      "GridBoxModel\n",
      "HBoxModel\n",
      "HTMLMathModel\n",
      "HTMLMathStyleModel\n",
      "HTMLModel\n",
      "HTMLStyleModel\n",
      "ImageModel\n",
      "IntProgressModel\n",
      "IntRangeSliderModel\n",
      "IntSliderModel\n",
      "IntTextModel\n",
      "IntsInputModel\n",
      "LabelModel\n",
      "LabelStyleModel\n",
      "LinkModel\n",
      "NaiveDatetimeModel\n",
      "PasswordModel\n",
      "PlayModel\n",
      "ProgressStyleModel\n",
      "RadioButtonsModel\n",
      "SelectModel\n",
      "SelectMultipleModel\n",
      "SelectionRangeSliderModel\n",
      "SelectionSliderModel\n",
      "SliderStyleModel\n",
      "StackModel\n",
      "TabModel\n",
      "TagsInputModel\n",
      "TextModel\n",
      "TextStyleModel\n",
      "TextareaModel\n",
      "TimeModel\n",
      "ToggleButtonModel\n",
      "ToggleButtonStyleModel\n",
      "ToggleButtonsModel\n",
      "ToggleButtonsStyleModel\n",
      "VBoxModel\n",
      "ValidModel\n",
      "VideoModel\n",
      "OutputModel\n"
     ]
    },
    {
     "name": "stderr",
     "output_type": "stream",
     "text": [
      "/var/folders/0g/bwhhtwgx52555xhqzwt7m2l00000gn/T/ipykernel_7339/843306528.py:4: DeprecationWarning: Widget.widget_types is deprecated.\n",
      "  for item in widgets.Widget.widget_types.items():\n"
     ]
    }
   ],
   "source": [
    "import ipywidgets as widgets\n",
    "\n",
    "# Show all available widgets!\n",
    "for item in widgets.Widget.widget_types.items():\n",
    "    print(item[0][2])"
   ],
   "metadata": {
    "collapsed": false
   }
  },
  {
   "cell_type": "code",
   "execution_count": 12,
   "outputs": [
    {
     "data": {
      "text/plain": "IntSlider(value=7, continuous_update=False, description='Test:', max=10)",
      "application/vnd.jupyter.widget-view+json": {
       "version_major": 2,
       "version_minor": 0,
       "model_id": "0b70f143d6fc460aa6ea14ede5769ee2"
      }
     },
     "execution_count": 12,
     "metadata": {},
     "output_type": "execute_result"
    }
   ],
   "source": [
    "widgets.IntSlider(\n",
    "    value=7,\n",
    "    min=0,\n",
    "    max=10,\n",
    "    step=1,\n",
    "    description='Test:',\n",
    "    disabled=False,\n",
    "    continuous_update=False,\n",
    "    orientation='horizontal',\n",
    "    readout=True,\n",
    "    readout_format='d'\n",
    ")"
   ],
   "metadata": {
    "collapsed": false
   }
  },
  {
   "cell_type": "code",
   "execution_count": 18,
   "outputs": [
    {
     "data": {
      "text/plain": "IntProgress(value=7, description='Loading:', max=10)",
      "application/vnd.jupyter.widget-view+json": {
       "version_major": 2,
       "version_minor": 0,
       "model_id": "965830a2870d4ab9872ad6a58b2daab3"
      }
     },
     "execution_count": 18,
     "metadata": {},
     "output_type": "execute_result"
    }
   ],
   "source": [
    "widgets.IntProgress(\n",
    "    value=7,\n",
    "    min=0,\n",
    "    max=10,\n",
    "    step=1,\n",
    "    description='Loading:',\n",
    "    bar_style='', # 'success', 'info', 'warning', 'danger' or ''\n",
    "    orientation='horizontal'\n",
    ")"
   ],
   "metadata": {
    "collapsed": false
   }
  },
  {
   "cell_type": "code",
   "execution_count": null,
   "outputs": [],
   "source": [],
   "metadata": {
    "collapsed": false
   }
  }
 ],
 "metadata": {
  "kernelspec": {
   "display_name": "Python 3",
   "language": "python",
   "name": "python3"
  },
  "language_info": {
   "codemirror_mode": {
    "name": "ipython",
    "version": 2
   },
   "file_extension": ".py",
   "mimetype": "text/x-python",
   "name": "python",
   "nbconvert_exporter": "python",
   "pygments_lexer": "ipython2",
   "version": "2.7.6"
  }
 },
 "nbformat": 4,
 "nbformat_minor": 0
}
